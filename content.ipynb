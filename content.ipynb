{
 "cells": [
  {
   "cell_type": "code",
   "execution_count": 10,
   "id": "01c2ee4e",
   "metadata": {},
   "outputs": [
    {
     "name": "stdout",
     "output_type": "stream",
     "text": [
      "Collecting seaborn\n",
      "  Using cached seaborn-0.13.2-py3-none-any.whl.metadata (5.4 kB)\n",
      "Requirement already satisfied: numpy!=1.24.0,>=1.20 in c:\\users\\manisha\\onedrive\\desktop\\projects\\.venv\\lib\\site-packages (from seaborn) (2.3.2)\n",
      "Requirement already satisfied: pandas>=1.2 in c:\\users\\manisha\\onedrive\\desktop\\projects\\.venv\\lib\\site-packages (from seaborn) (2.3.2)\n",
      "Requirement already satisfied: matplotlib!=3.6.1,>=3.4 in c:\\users\\manisha\\onedrive\\desktop\\projects\\.venv\\lib\\site-packages (from seaborn) (3.10.6)\n",
      "Requirement already satisfied: contourpy>=1.0.1 in c:\\users\\manisha\\onedrive\\desktop\\projects\\.venv\\lib\\site-packages (from matplotlib!=3.6.1,>=3.4->seaborn) (1.3.3)\n",
      "Requirement already satisfied: cycler>=0.10 in c:\\users\\manisha\\onedrive\\desktop\\projects\\.venv\\lib\\site-packages (from matplotlib!=3.6.1,>=3.4->seaborn) (0.12.1)\n",
      "Requirement already satisfied: fonttools>=4.22.0 in c:\\users\\manisha\\onedrive\\desktop\\projects\\.venv\\lib\\site-packages (from matplotlib!=3.6.1,>=3.4->seaborn) (4.59.2)\n",
      "Requirement already satisfied: kiwisolver>=1.3.1 in c:\\users\\manisha\\onedrive\\desktop\\projects\\.venv\\lib\\site-packages (from matplotlib!=3.6.1,>=3.4->seaborn) (1.4.9)\n",
      "Requirement already satisfied: packaging>=20.0 in c:\\users\\manisha\\onedrive\\desktop\\projects\\.venv\\lib\\site-packages (from matplotlib!=3.6.1,>=3.4->seaborn) (25.0)\n",
      "Requirement already satisfied: pillow>=8 in c:\\users\\manisha\\onedrive\\desktop\\projects\\.venv\\lib\\site-packages (from matplotlib!=3.6.1,>=3.4->seaborn) (11.3.0)\n",
      "Requirement already satisfied: pyparsing>=2.3.1 in c:\\users\\manisha\\onedrive\\desktop\\projects\\.venv\\lib\\site-packages (from matplotlib!=3.6.1,>=3.4->seaborn) (3.2.3)\n",
      "Requirement already satisfied: python-dateutil>=2.7 in c:\\users\\manisha\\onedrive\\desktop\\projects\\.venv\\lib\\site-packages (from matplotlib!=3.6.1,>=3.4->seaborn) (2.9.0.post0)\n",
      "Requirement already satisfied: pytz>=2020.1 in c:\\users\\manisha\\onedrive\\desktop\\projects\\.venv\\lib\\site-packages (from pandas>=1.2->seaborn) (2025.2)\n",
      "Requirement already satisfied: tzdata>=2022.7 in c:\\users\\manisha\\onedrive\\desktop\\projects\\.venv\\lib\\site-packages (from pandas>=1.2->seaborn) (2025.2)\n",
      "Requirement already satisfied: six>=1.5 in c:\\users\\manisha\\onedrive\\desktop\\projects\\.venv\\lib\\site-packages (from python-dateutil>=2.7->matplotlib!=3.6.1,>=3.4->seaborn) (1.17.0)\n",
      "Using cached seaborn-0.13.2-py3-none-any.whl (294 kB)\n",
      "Installing collected packages: seaborn\n",
      "Successfully installed seaborn-0.13.2\n",
      "Note: you may need to restart the kernel to use updated packages.\n"
     ]
    }
   ],
   "source": [
    "%pip install seaborn\n"
   ]
  },
  {
   "cell_type": "code",
   "execution_count": 2,
   "id": "1f00cba4",
   "metadata": {},
   "outputs": [],
   "source": [
    "from sklearn.impute import KNNImputer"
   ]
  },
  {
   "cell_type": "code",
   "execution_count": 14,
   "id": "dc495105",
   "metadata": {},
   "outputs": [],
   "source": [
    "\n",
    "\n",
    "import pandas as pd\n",
    "import seaborn as sns\n",
    "import matplotlib.pyplot as plt\n",
    "import plotly.express as px\n",
    "import pandas as pd\n",
    "import numpy as np\n",
    "import matplotlib.pyplot as plt\n",
    "import seaborn as sns\n",
    "import plotly.express as px\n",
    "from sklearn.model_selection import train_test_split\n",
    "from sklearn.pipeline import Pipeline\n",
    "from sklearn.preprocessing import StandardScaler, OneHotEncoder\n",
    "from sklearn.compose import ColumnTransformer\n",
    "from sklearn.linear_model import LinearRegression, ElasticNet\n",
    "from sklearn.ensemble import AdaBoostRegressor, GradientBoostingRegressor,RandomForestRegressor\n",
    "from sklearn.tree import DecisionTreeRegressor\n",
    "from sklearn.metrics import mean_absolute_error, mean_squared_error, r2_score\n",
    "import joblib\n",
    "from sklearn.impute import SimpleImputer\n",
    "from sklearn.pipeline import Pipeline\n",
    "\n"
   ]
  },
  {
   "cell_type": "code",
   "execution_count": 36,
   "id": "468ca8b5",
   "metadata": {},
   "outputs": [
    {
     "data": {
      "text/html": [
       "<div>\n",
       "<style scoped>\n",
       "    .dataframe tbody tr th:only-of-type {\n",
       "        vertical-align: middle;\n",
       "    }\n",
       "\n",
       "    .dataframe tbody tr th {\n",
       "        vertical-align: top;\n",
       "    }\n",
       "\n",
       "    .dataframe thead th {\n",
       "        text-align: right;\n",
       "    }\n",
       "</style>\n",
       "<table border=\"1\" class=\"dataframe\">\n",
       "  <thead>\n",
       "    <tr style=\"text-align: right;\">\n",
       "      <th></th>\n",
       "      <th>video_id</th>\n",
       "      <th>date</th>\n",
       "      <th>views</th>\n",
       "      <th>likes</th>\n",
       "      <th>comments</th>\n",
       "      <th>watch_time_minutes</th>\n",
       "      <th>video_length_minutes</th>\n",
       "      <th>subscribers</th>\n",
       "      <th>category</th>\n",
       "      <th>device</th>\n",
       "      <th>country</th>\n",
       "      <th>ad_revenue_usd</th>\n",
       "    </tr>\n",
       "  </thead>\n",
       "  <tbody>\n",
       "    <tr>\n",
       "      <th>43289</th>\n",
       "      <td>vid_4119</td>\n",
       "      <td>2024-08-01 10:50:40.993199</td>\n",
       "      <td>10149</td>\n",
       "      <td>969.0</td>\n",
       "      <td>282.0</td>\n",
       "      <td>27841.186670</td>\n",
       "      <td>8.547216</td>\n",
       "      <td>870974</td>\n",
       "      <td>Education</td>\n",
       "      <td>Desktop</td>\n",
       "      <td>CA</td>\n",
       "      <td>205.639924</td>\n",
       "    </tr>\n",
       "    <tr>\n",
       "      <th>9878</th>\n",
       "      <td>vid_4523</td>\n",
       "      <td>2024-09-09 10:50:40.993199</td>\n",
       "      <td>10121</td>\n",
       "      <td>1591.0</td>\n",
       "      <td>275.0</td>\n",
       "      <td>33564.231254</td>\n",
       "      <td>3.220769</td>\n",
       "      <td>813481</td>\n",
       "      <td>Gaming</td>\n",
       "      <td>TV</td>\n",
       "      <td>UK</td>\n",
       "      <td>243.045753</td>\n",
       "    </tr>\n",
       "    <tr>\n",
       "      <th>95726</th>\n",
       "      <td>vid_4519</td>\n",
       "      <td>2025-01-15 10:50:40.993199</td>\n",
       "      <td>10258</td>\n",
       "      <td>1107.0</td>\n",
       "      <td>372.0</td>\n",
       "      <td>37499.111832</td>\n",
       "      <td>26.370415</td>\n",
       "      <td>528667</td>\n",
       "      <td>Lifestyle</td>\n",
       "      <td>Desktop</td>\n",
       "      <td>UK</td>\n",
       "      <td>255.659206</td>\n",
       "    </tr>\n",
       "    <tr>\n",
       "      <th>56681</th>\n",
       "      <td>vid_469</td>\n",
       "      <td>2024-07-30 10:50:40.993199</td>\n",
       "      <td>10019</td>\n",
       "      <td>1628.0</td>\n",
       "      <td>274.0</td>\n",
       "      <td>44566.799503</td>\n",
       "      <td>10.391439</td>\n",
       "      <td>686752</td>\n",
       "      <td>Tech</td>\n",
       "      <td>TV</td>\n",
       "      <td>AU</td>\n",
       "      <td>295.005038</td>\n",
       "    </tr>\n",
       "    <tr>\n",
       "      <th>59747</th>\n",
       "      <td>vid_3828</td>\n",
       "      <td>2025-02-27 10:50:40.993199</td>\n",
       "      <td>9902</td>\n",
       "      <td>1645.0</td>\n",
       "      <td>327.0</td>\n",
       "      <td>15934.363608</td>\n",
       "      <td>25.613573</td>\n",
       "      <td>167600</td>\n",
       "      <td>Lifestyle</td>\n",
       "      <td>Desktop</td>\n",
       "      <td>AU</td>\n",
       "      <td>160.609896</td>\n",
       "    </tr>\n",
       "    <tr>\n",
       "      <th>88760</th>\n",
       "      <td>vid_3364</td>\n",
       "      <td>2025-02-09 10:50:40.993199</td>\n",
       "      <td>10052</td>\n",
       "      <td>1555.0</td>\n",
       "      <td>442.0</td>\n",
       "      <td>NaN</td>\n",
       "      <td>3.663213</td>\n",
       "      <td>172270</td>\n",
       "      <td>Gaming</td>\n",
       "      <td>Desktop</td>\n",
       "      <td>DE</td>\n",
       "      <td>203.077779</td>\n",
       "    </tr>\n",
       "    <tr>\n",
       "      <th>119247</th>\n",
       "      <td>vid_3217</td>\n",
       "      <td>2025-03-03 10:50:40.993199</td>\n",
       "      <td>9994</td>\n",
       "      <td>1997.0</td>\n",
       "      <td>236.0</td>\n",
       "      <td>35335.525998</td>\n",
       "      <td>6.653701</td>\n",
       "      <td>746867</td>\n",
       "      <td>Music</td>\n",
       "      <td>TV</td>\n",
       "      <td>UK</td>\n",
       "      <td>257.042624</td>\n",
       "    </tr>\n",
       "    <tr>\n",
       "      <th>94410</th>\n",
       "      <td>vid_4228</td>\n",
       "      <td>2024-07-15 10:50:40.993199</td>\n",
       "      <td>9991</td>\n",
       "      <td>1201.0</td>\n",
       "      <td>233.0</td>\n",
       "      <td>19236.652580</td>\n",
       "      <td>23.099999</td>\n",
       "      <td>66946</td>\n",
       "      <td>Tech</td>\n",
       "      <td>Desktop</td>\n",
       "      <td>UK</td>\n",
       "      <td>167.395585</td>\n",
       "    </tr>\n",
       "    <tr>\n",
       "      <th>48306</th>\n",
       "      <td>vid_4212</td>\n",
       "      <td>2024-09-04 10:50:40.993199</td>\n",
       "      <td>9985</td>\n",
       "      <td>1632.0</td>\n",
       "      <td>53.0</td>\n",
       "      <td>20856.383553</td>\n",
       "      <td>27.634231</td>\n",
       "      <td>925859</td>\n",
       "      <td>Music</td>\n",
       "      <td>Desktop</td>\n",
       "      <td>UK</td>\n",
       "      <td>179.314627</td>\n",
       "    </tr>\n",
       "    <tr>\n",
       "      <th>10936</th>\n",
       "      <td>vid_2901</td>\n",
       "      <td>2024-07-15 10:50:40.993199</td>\n",
       "      <td>9919</td>\n",
       "      <td>1245.0</td>\n",
       "      <td>115.0</td>\n",
       "      <td>41165.984010</td>\n",
       "      <td>7.909155</td>\n",
       "      <td>247880</td>\n",
       "      <td>Education</td>\n",
       "      <td>Tablet</td>\n",
       "      <td>CA</td>\n",
       "      <td>269.135188</td>\n",
       "    </tr>\n",
       "  </tbody>\n",
       "</table>\n",
       "</div>"
      ],
      "text/plain": [
       "        video_id                        date  views   likes  comments  \\\n",
       "43289   vid_4119  2024-08-01 10:50:40.993199  10149   969.0     282.0   \n",
       "9878    vid_4523  2024-09-09 10:50:40.993199  10121  1591.0     275.0   \n",
       "95726   vid_4519  2025-01-15 10:50:40.993199  10258  1107.0     372.0   \n",
       "56681    vid_469  2024-07-30 10:50:40.993199  10019  1628.0     274.0   \n",
       "59747   vid_3828  2025-02-27 10:50:40.993199   9902  1645.0     327.0   \n",
       "88760   vid_3364  2025-02-09 10:50:40.993199  10052  1555.0     442.0   \n",
       "119247  vid_3217  2025-03-03 10:50:40.993199   9994  1997.0     236.0   \n",
       "94410   vid_4228  2024-07-15 10:50:40.993199   9991  1201.0     233.0   \n",
       "48306   vid_4212  2024-09-04 10:50:40.993199   9985  1632.0      53.0   \n",
       "10936   vid_2901  2024-07-15 10:50:40.993199   9919  1245.0     115.0   \n",
       "\n",
       "        watch_time_minutes  video_length_minutes  subscribers   category  \\\n",
       "43289         27841.186670              8.547216       870974  Education   \n",
       "9878          33564.231254              3.220769       813481     Gaming   \n",
       "95726         37499.111832             26.370415       528667  Lifestyle   \n",
       "56681         44566.799503             10.391439       686752       Tech   \n",
       "59747         15934.363608             25.613573       167600  Lifestyle   \n",
       "88760                  NaN              3.663213       172270     Gaming   \n",
       "119247        35335.525998              6.653701       746867      Music   \n",
       "94410         19236.652580             23.099999        66946       Tech   \n",
       "48306         20856.383553             27.634231       925859      Music   \n",
       "10936         41165.984010              7.909155       247880  Education   \n",
       "\n",
       "         device country  ad_revenue_usd  \n",
       "43289   Desktop      CA      205.639924  \n",
       "9878         TV      UK      243.045753  \n",
       "95726   Desktop      UK      255.659206  \n",
       "56681        TV      AU      295.005038  \n",
       "59747   Desktop      AU      160.609896  \n",
       "88760   Desktop      DE      203.077779  \n",
       "119247       TV      UK      257.042624  \n",
       "94410   Desktop      UK      167.395585  \n",
       "48306   Desktop      UK      179.314627  \n",
       "10936    Tablet      CA      269.135188  "
      ]
     },
     "metadata": {},
     "output_type": "display_data"
    }
   ],
   "source": [
    "df = pd.read_csv(r\"C:/Users/Manisha/OneDrive/Desktop/Projects/youtube_ad_revenue_dataset.csv\")\n",
    "display(df.sample(10))"
   ]
  },
  {
   "cell_type": "code",
   "execution_count": 4,
   "id": "b70e4b53",
   "metadata": {},
   "outputs": [
    {
     "name": "stdout",
     "output_type": "stream",
     "text": [
      "<class 'pandas.core.frame.DataFrame'>\n",
      "RangeIndex: 122400 entries, 0 to 122399\n",
      "Data columns (total 12 columns):\n",
      " #   Column                Non-Null Count   Dtype  \n",
      "---  ------                --------------   -----  \n",
      " 0   video_id              122400 non-null  object \n",
      " 1   date                  122400 non-null  object \n",
      " 2   views                 122400 non-null  int64  \n",
      " 3   likes                 116283 non-null  float64\n",
      " 4   comments              116288 non-null  float64\n",
      " 5   watch_time_minutes    116295 non-null  float64\n",
      " 6   video_length_minutes  122400 non-null  float64\n",
      " 7   subscribers           122400 non-null  int64  \n",
      " 8   category              122400 non-null  object \n",
      " 9   device                122400 non-null  object \n",
      " 10  country               122400 non-null  object \n",
      " 11  ad_revenue_usd        122400 non-null  float64\n",
      "dtypes: float64(5), int64(2), object(5)\n",
      "memory usage: 11.2+ MB\n"
     ]
    }
   ],
   "source": [
    "df.columns\n",
    "df.info()\n"
   ]
  },
  {
   "cell_type": "code",
   "execution_count": 5,
   "id": "79c102c4",
   "metadata": {},
   "outputs": [
    {
     "data": {
      "text/plain": [
       "video_id                   0\n",
       "date                       0\n",
       "views                      0\n",
       "likes                   6117\n",
       "comments                6112\n",
       "watch_time_minutes      6105\n",
       "video_length_minutes       0\n",
       "subscribers                0\n",
       "category                   0\n",
       "device                     0\n",
       "country                    0\n",
       "ad_revenue_usd             0\n",
       "dtype: int64"
      ]
     },
     "execution_count": 5,
     "metadata": {},
     "output_type": "execute_result"
    }
   ],
   "source": [
    "#Missing values\n",
    "df.isna().sum()\n",
    "\n"
   ]
  },
  {
   "cell_type": "code",
   "execution_count": 8,
   "id": "d876fbb4",
   "metadata": {},
   "outputs": [
    {
     "data": {
      "text/plain": [
       "video_id                   0\n",
       "date                       0\n",
       "views                      0\n",
       "likes                      0\n",
       "comments                   0\n",
       "watch_time_minutes      6105\n",
       "video_length_minutes       0\n",
       "subscribers                0\n",
       "category                   0\n",
       "device                     0\n",
       "country                    0\n",
       "ad_revenue_usd             0\n",
       "dtype: int64"
      ]
     },
     "execution_count": 8,
     "metadata": {},
     "output_type": "execute_result"
    }
   ],
   "source": [
    "df.isna().sum() "
   ]
  },
  {
   "cell_type": "code",
   "execution_count": 37,
   "id": "7d2e71d1",
   "metadata": {},
   "outputs": [
    {
     "data": {
      "text/html": [
       "<div>\n",
       "<style scoped>\n",
       "    .dataframe tbody tr th:only-of-type {\n",
       "        vertical-align: middle;\n",
       "    }\n",
       "\n",
       "    .dataframe tbody tr th {\n",
       "        vertical-align: top;\n",
       "    }\n",
       "\n",
       "    .dataframe thead th {\n",
       "        text-align: right;\n",
       "    }\n",
       "</style>\n",
       "<table border=\"1\" class=\"dataframe\">\n",
       "  <thead>\n",
       "    <tr style=\"text-align: right;\">\n",
       "      <th></th>\n",
       "      <th>video_id</th>\n",
       "      <th>date</th>\n",
       "      <th>views</th>\n",
       "      <th>likes</th>\n",
       "      <th>comments</th>\n",
       "      <th>watch_time_minutes</th>\n",
       "      <th>video_length_minutes</th>\n",
       "      <th>subscribers</th>\n",
       "      <th>category</th>\n",
       "      <th>device</th>\n",
       "      <th>country</th>\n",
       "      <th>ad_revenue_usd</th>\n",
       "    </tr>\n",
       "  </thead>\n",
       "  <tbody>\n",
       "    <tr>\n",
       "      <th>0</th>\n",
       "      <td>vid_3092</td>\n",
       "      <td>2024-09-24 10:50:40.993199</td>\n",
       "      <td>9936</td>\n",
       "      <td>1221.0</td>\n",
       "      <td>320.0</td>\n",
       "      <td>26497.214184</td>\n",
       "      <td>2.862137</td>\n",
       "      <td>228086</td>\n",
       "      <td>Entertainment</td>\n",
       "      <td>TV</td>\n",
       "      <td>IN</td>\n",
       "      <td>203.178237</td>\n",
       "    </tr>\n",
       "    <tr>\n",
       "      <th>1</th>\n",
       "      <td>vid_3459</td>\n",
       "      <td>2024-09-22 10:50:40.993199</td>\n",
       "      <td>10017</td>\n",
       "      <td>642.0</td>\n",
       "      <td>346.0</td>\n",
       "      <td>15209.747445</td>\n",
       "      <td>23.738069</td>\n",
       "      <td>736015</td>\n",
       "      <td>Gaming</td>\n",
       "      <td>Tablet</td>\n",
       "      <td>CA</td>\n",
       "      <td>140.880508</td>\n",
       "    </tr>\n",
       "    <tr>\n",
       "      <th>2</th>\n",
       "      <td>vid_4784</td>\n",
       "      <td>2024-11-21 10:50:40.993199</td>\n",
       "      <td>10097</td>\n",
       "      <td>1979.0</td>\n",
       "      <td>187.0</td>\n",
       "      <td>57332.658498</td>\n",
       "      <td>26.200634</td>\n",
       "      <td>240534</td>\n",
       "      <td>Education</td>\n",
       "      <td>TV</td>\n",
       "      <td>CA</td>\n",
       "      <td>360.134008</td>\n",
       "    </tr>\n",
       "    <tr>\n",
       "      <th>3</th>\n",
       "      <td>vid_4078</td>\n",
       "      <td>2025-01-28 10:50:40.993199</td>\n",
       "      <td>10034</td>\n",
       "      <td>1191.0</td>\n",
       "      <td>242.0</td>\n",
       "      <td>31334.517771</td>\n",
       "      <td>11.770340</td>\n",
       "      <td>434482</td>\n",
       "      <td>Entertainment</td>\n",
       "      <td>Mobile</td>\n",
       "      <td>UK</td>\n",
       "      <td>224.638261</td>\n",
       "    </tr>\n",
       "    <tr>\n",
       "      <th>4</th>\n",
       "      <td>vid_3522</td>\n",
       "      <td>2025-04-28 10:50:40.993199</td>\n",
       "      <td>9889</td>\n",
       "      <td>1858.0</td>\n",
       "      <td>477.0</td>\n",
       "      <td>15665.666434</td>\n",
       "      <td>6.635854</td>\n",
       "      <td>42030</td>\n",
       "      <td>Education</td>\n",
       "      <td>Mobile</td>\n",
       "      <td>CA</td>\n",
       "      <td>165.514388</td>\n",
       "    </tr>\n",
       "    <tr>\n",
       "      <th>...</th>\n",
       "      <td>...</td>\n",
       "      <td>...</td>\n",
       "      <td>...</td>\n",
       "      <td>...</td>\n",
       "      <td>...</td>\n",
       "      <td>...</td>\n",
       "      <td>...</td>\n",
       "      <td>...</td>\n",
       "      <td>...</td>\n",
       "      <td>...</td>\n",
       "      <td>...</td>\n",
       "      <td>...</td>\n",
       "    </tr>\n",
       "    <tr>\n",
       "      <th>122395</th>\n",
       "      <td>vid_2902</td>\n",
       "      <td>2024-12-14 10:50:40.993199</td>\n",
       "      <td>9853</td>\n",
       "      <td>1673.0</td>\n",
       "      <td>147.0</td>\n",
       "      <td>42075.704885</td>\n",
       "      <td>25.490195</td>\n",
       "      <td>210818</td>\n",
       "      <td>Education</td>\n",
       "      <td>Tablet</td>\n",
       "      <td>US</td>\n",
       "      <td>280.986396</td>\n",
       "    </tr>\n",
       "    <tr>\n",
       "      <th>122396</th>\n",
       "      <td>vid_3890</td>\n",
       "      <td>2024-07-13 10:50:40.993199</td>\n",
       "      <td>10128</td>\n",
       "      <td>1709.0</td>\n",
       "      <td>63.0</td>\n",
       "      <td>57563.703040</td>\n",
       "      <td>16.229133</td>\n",
       "      <td>878860</td>\n",
       "      <td>Music</td>\n",
       "      <td>Desktop</td>\n",
       "      <td>UK</td>\n",
       "      <td>354.612981</td>\n",
       "    </tr>\n",
       "    <tr>\n",
       "      <th>122397</th>\n",
       "      <td>vid_3934</td>\n",
       "      <td>2024-06-10 10:50:40.993199</td>\n",
       "      <td>10267</td>\n",
       "      <td>700.0</td>\n",
       "      <td>NaN</td>\n",
       "      <td>27549.714659</td>\n",
       "      <td>23.822365</td>\n",
       "      <td>576756</td>\n",
       "      <td>Tech</td>\n",
       "      <td>Tablet</td>\n",
       "      <td>CA</td>\n",
       "      <td>203.643106</td>\n",
       "    </tr>\n",
       "    <tr>\n",
       "      <th>122398</th>\n",
       "      <td>vid_4260</td>\n",
       "      <td>2024-12-22 10:50:40.993199</td>\n",
       "      <td>10240</td>\n",
       "      <td>1616.0</td>\n",
       "      <td>106.0</td>\n",
       "      <td>56967.384382</td>\n",
       "      <td>7.753099</td>\n",
       "      <td>585138</td>\n",
       "      <td>Music</td>\n",
       "      <td>Mobile</td>\n",
       "      <td>UK</td>\n",
       "      <td>351.525811</td>\n",
       "    </tr>\n",
       "    <tr>\n",
       "      <th>122399</th>\n",
       "      <td>vid_1056</td>\n",
       "      <td>2024-06-25 10:50:40.993199</td>\n",
       "      <td>9931</td>\n",
       "      <td>770.0</td>\n",
       "      <td>NaN</td>\n",
       "      <td>38466.837135</td>\n",
       "      <td>27.305703</td>\n",
       "      <td>517587</td>\n",
       "      <td>Tech</td>\n",
       "      <td>TV</td>\n",
       "      <td>CA</td>\n",
       "      <td>253.842824</td>\n",
       "    </tr>\n",
       "  </tbody>\n",
       "</table>\n",
       "<p>120000 rows × 12 columns</p>\n",
       "</div>"
      ],
      "text/plain": [
       "        video_id                        date  views   likes  comments  \\\n",
       "0       vid_3092  2024-09-24 10:50:40.993199   9936  1221.0     320.0   \n",
       "1       vid_3459  2024-09-22 10:50:40.993199  10017   642.0     346.0   \n",
       "2       vid_4784  2024-11-21 10:50:40.993199  10097  1979.0     187.0   \n",
       "3       vid_4078  2025-01-28 10:50:40.993199  10034  1191.0     242.0   \n",
       "4       vid_3522  2025-04-28 10:50:40.993199   9889  1858.0     477.0   \n",
       "...          ...                         ...    ...     ...       ...   \n",
       "122395  vid_2902  2024-12-14 10:50:40.993199   9853  1673.0     147.0   \n",
       "122396  vid_3890  2024-07-13 10:50:40.993199  10128  1709.0      63.0   \n",
       "122397  vid_3934  2024-06-10 10:50:40.993199  10267   700.0       NaN   \n",
       "122398  vid_4260  2024-12-22 10:50:40.993199  10240  1616.0     106.0   \n",
       "122399  vid_1056  2024-06-25 10:50:40.993199   9931   770.0       NaN   \n",
       "\n",
       "        watch_time_minutes  video_length_minutes  subscribers       category  \\\n",
       "0             26497.214184              2.862137       228086  Entertainment   \n",
       "1             15209.747445             23.738069       736015         Gaming   \n",
       "2             57332.658498             26.200634       240534      Education   \n",
       "3             31334.517771             11.770340       434482  Entertainment   \n",
       "4             15665.666434              6.635854        42030      Education   \n",
       "...                    ...                   ...          ...            ...   \n",
       "122395        42075.704885             25.490195       210818      Education   \n",
       "122396        57563.703040             16.229133       878860          Music   \n",
       "122397        27549.714659             23.822365       576756           Tech   \n",
       "122398        56967.384382              7.753099       585138          Music   \n",
       "122399        38466.837135             27.305703       517587           Tech   \n",
       "\n",
       "         device country  ad_revenue_usd  \n",
       "0            TV      IN      203.178237  \n",
       "1        Tablet      CA      140.880508  \n",
       "2            TV      CA      360.134008  \n",
       "3        Mobile      UK      224.638261  \n",
       "4        Mobile      CA      165.514388  \n",
       "...         ...     ...             ...  \n",
       "122395   Tablet      US      280.986396  \n",
       "122396  Desktop      UK      354.612981  \n",
       "122397   Tablet      CA      203.643106  \n",
       "122398   Mobile      UK      351.525811  \n",
       "122399       TV      CA      253.842824  \n",
       "\n",
       "[120000 rows x 12 columns]"
      ]
     },
     "execution_count": 37,
     "metadata": {},
     "output_type": "execute_result"
    }
   ],
   "source": [
    "df.drop_duplicates( inplace=True)\n",
    "df"
   ]
  },
  {
   "cell_type": "code",
   "execution_count": 32,
   "id": "2d39e49d",
   "metadata": {},
   "outputs": [],
   "source": [
    "from sklearn.preprocessing import StandardScaler"
   ]
  },
  {
   "cell_type": "code",
   "execution_count": 38,
   "id": "fb499d74",
   "metadata": {},
   "outputs": [
    {
     "name": "stderr",
     "output_type": "stream",
     "text": [
      "C:\\Users\\Manisha\\AppData\\Local\\Temp\\ipykernel_2796\\3173911260.py:2: FutureWarning: A value is trying to be set on a copy of a DataFrame or Series through chained assignment using an inplace method.\n",
      "The behavior will change in pandas 3.0. This inplace method will never work because the intermediate object on which we are setting values always behaves as a copy.\n",
      "\n",
      "For example, when doing 'df[col].method(value, inplace=True)', try using 'df.method({col: value}, inplace=True)' or df[col] = df[col].method(value) instead, to perform the operation inplace on the original object.\n",
      "\n",
      "\n",
      "  df['watch_time_minutes'].fillna(df['watch_time_minutes'].mean(), inplace=True)\n",
      "C:\\Users\\Manisha\\AppData\\Local\\Temp\\ipykernel_2796\\3173911260.py:3: FutureWarning: A value is trying to be set on a copy of a DataFrame or Series through chained assignment using an inplace method.\n",
      "The behavior will change in pandas 3.0. This inplace method will never work because the intermediate object on which we are setting values always behaves as a copy.\n",
      "\n",
      "For example, when doing 'df[col].method(value, inplace=True)', try using 'df.method({col: value}, inplace=True)' or df[col] = df[col].method(value) instead, to perform the operation inplace on the original object.\n",
      "\n",
      "\n",
      "  df['likes'].fillna(df['likes'].mean(), inplace=True)\n",
      "C:\\Users\\Manisha\\AppData\\Local\\Temp\\ipykernel_2796\\3173911260.py:4: FutureWarning: A value is trying to be set on a copy of a DataFrame or Series through chained assignment using an inplace method.\n",
      "The behavior will change in pandas 3.0. This inplace method will never work because the intermediate object on which we are setting values always behaves as a copy.\n",
      "\n",
      "For example, when doing 'df[col].method(value, inplace=True)', try using 'df.method({col: value}, inplace=True)' or df[col] = df[col].method(value) instead, to perform the operation inplace on the original object.\n",
      "\n",
      "\n",
      "  df['comments'].fillna(df['comments'].mean(), inplace=True)\n"
     ]
    }
   ],
   "source": [
    "df.isna().sum()\n",
    "df['watch_time_minutes'].fillna(df['watch_time_minutes'].mean(), inplace=True)\n",
    "df['likes'].fillna(df['likes'].mean(), inplace=True)\n",
    "df['comments'].fillna(df['comments'].mean(), inplace=True)  "
   ]
  },
  {
   "cell_type": "code",
   "execution_count": 39,
   "id": "223e3d39",
   "metadata": {},
   "outputs": [],
   "source": [
    "from sklearn.model_selection import train_test_split\n",
    "# Feature engineering\n",
    "df['engagement_rate'] = (df['likes'] + df['comments']) / df['views']\n",
    "df['subscriber_value'] = df['ad_revenue_usd'] / (df['subscribers'] )\n",
    "\n",
    "\n",
    "# Separate features and target\n",
    "X = df.drop(columns=['date', 'ad_revenue_usd','video_id'],errors='ignore')\n",
    "y = df['ad_revenue_usd']\n",
    "\n",
    "#Train-test split\n",
    "X_train, X_test, y_train, y_test = train_test_split(X, y, test_size=0.2, random_state=42)\n",
    "\n"
   ]
  },
  {
   "cell_type": "code",
   "execution_count": 40,
   "id": "5408c1f7",
   "metadata": {},
   "outputs": [],
   "source": [
    "# Define models\n",
    "models = {\n",
    "    \"Linear Regression\": LinearRegression(),\n",
    "    \"Decision Tree\": DecisionTreeRegressor(random_state=42),\n",
    "    \"Random Forest\": RandomForestRegressor(random_state=42),\n",
    "    \"Gradient Boosting\": GradientBoostingRegressor(random_state=42),\n",
    "    'ElasticNet':ElasticNet(alpha=1.0, l1_ratio=0.5)\n",
    "}\n",
    "\n",
    "# Identify categorical & numeric columns\n",
    "cat_cols = X_train.select_dtypes(include=['object']).columns\n",
    "num_cols = X_train.select_dtypes(exclude=['object']).columns"
   ]
  },
  {
   "cell_type": "code",
   "execution_count": null,
   "id": "434f7375",
   "metadata": {},
   "outputs": [],
   "source": []
  },
  {
   "cell_type": "code",
   "execution_count": 41,
   "id": "7309bc84",
   "metadata": {},
   "outputs": [],
   "source": [
    "# Categorical preprocessing pipeline\n",
    "\n",
    "\n",
    "\n",
    "categorical_transformer = Pipeline([\n",
    "    ('encoder', OneHotEncoder(handle_unknown='ignore'),cat_cols)\n",
    "])\n",
    "\n",
    "# Combine into ColumnTransformer\n",
    "preprocessor = ColumnTransformer(transformers=[\n",
    "    ('num', 'passthrough', num_cols),\n",
    "    ('cat', categorical_transformer, cat_cols)\n",
    "])"
   ]
  },
  {
   "cell_type": "code",
   "execution_count": 42,
   "id": "9592c78b",
   "metadata": {},
   "outputs": [],
   "source": [
    "# Store results\n",
    "results = []\n",
    "\n",
    "# Identify numeric and categorical columns\n",
    "num_features = [\"views\", \"likes\", \"comments\", \"watch_time_minutes\", \n",
    "                \"video_length_minutes\", \"subscribers\", \"engagement_rate\", \n",
    "                \"subscriber_value\"]\n",
    "cat_features = [\"category\", \"device\", \"country\"]\n",
    "\n",
    "# Create preprocessor with proper handling of both numeric and categorical features\n",
    "preprocessor = ColumnTransformer(\n",
    "    transformers=[\n",
    "        ('num', StandardScaler(), num_features),\n",
    "        ('cat', OneHotEncoder(handle_unknown='ignore'), cat_features)\n",
    "    ])\n",
    "\n",
    "# Loop through models\n",
    "for name, model in models.items():\n",
    "    # Create pipeline\n",
    "    pipe = Pipeline([\n",
    "        ('preprocessor', preprocessor),\n",
    "        ('model', model)\n",
    "    ])\n",
    "    \n",
    "    # Fit and predict\n",
    "    pipe.fit(X_train, y_train)\n",
    "    y_pred = pipe.predict(X_test)\n",
    "    \n",
    "    # Calculate metrics\n",
    "    mae = mean_absolute_error(y_test, y_pred)\n",
    "    rmse = np.sqrt(mean_squared_error(y_test, y_pred))\n",
    "    r2 = r2_score(y_test, y_pred)\n",
    "    \n",
    "    results.append([name, mae, rmse, r2])"
   ]
  },
  {
   "cell_type": "code",
   "execution_count": 47,
   "id": "c803b11f",
   "metadata": {},
   "outputs": [
    {
     "name": "stderr",
     "output_type": "stream",
     "text": [
      "C:\\Users\\Manisha\\AppData\\Local\\Temp\\ipykernel_2796\\4232563429.py:5: FutureWarning:\n",
      "\n",
      "\n",
      "\n",
      "Passing `palette` without assigning `hue` is deprecated and will be removed in v0.14.0. Assign the `x` variable to `hue` and set `legend=False` for the same effect.\n",
      "\n",
      "\n",
      "C:\\Users\\Manisha\\AppData\\Local\\Temp\\ipykernel_2796\\4232563429.py:5: FutureWarning:\n",
      "\n",
      "\n",
      "\n",
      "Passing `palette` without assigning `hue` is deprecated and will be removed in v0.14.0. Assign the `x` variable to `hue` and set `legend=False` for the same effect.\n",
      "\n",
      "\n",
      "C:\\Users\\Manisha\\AppData\\Local\\Temp\\ipykernel_2796\\4232563429.py:5: FutureWarning:\n",
      "\n",
      "\n",
      "\n",
      "Passing `palette` without assigning `hue` is deprecated and will be removed in v0.14.0. Assign the `x` variable to `hue` and set `legend=False` for the same effect.\n",
      "\n",
      "\n"
     ]
    },
    {
     "data": {
      "image/png": "[encoded data removed]",
      "text/plain": [
       "<Figure size 1800x500 with 3 Axes>"
      ]
     },
     "metadata": {},
     "output_type": "display_data"
    }
   ],
   "source": [
    "metrics = ['MAE', 'RMSE', 'R2']\n",
    "fig, axes = plt.subplots(1, 3, figsize=(18, 5))\n",
    "\n",
    "for i, metric in enumerate(metrics):\n",
    "    sns.barplot(x='Model', y=metric, data=results_df, ax=axes[i], palette='viridis')\n",
    "    axes[i].set_title(f'{metric} Comparison')\n",
    "    axes[i].set_ylabel(metric)\n",
    "    axes[i].set_xlabel('Model')\n",
    "    axes[i].tick_params(axis='x', rotation=45)\n",
    "\n",
    "plt.tight_layout()\n",
    "plt.show()"
   ]
  },
  {
   "cell_type": "code",
   "execution_count": 48,
   "id": "605f4767",
   "metadata": {},
   "outputs": [
    {
     "data": {
      "application/vnd.plotly.v1+json": {
       "config": {
        "plotlyServerURL": "https://plot.ly"
       },
       "data": [
        {
         "alignmentgroup": "True",
         "hovertemplate": "variable=MAE<br>Model=%{x}<br>value=%{y}<extra></extra>",
         "legendgroup": "MAE",
         "marker": {
          "color": "#636efa",
          "pattern": {
           "shape": ""
          }
         },
         "name": "MAE",
         "offsetgroup": "MAE",
         "orientation": "v",
         "showlegend": true,
         "textposition": "auto",
         "type": "bar",
         "x": [
          "Linear Regression",
          "Decision Tree",
          "Random Forest",
          "Gradient Boosting",
          "ElasticNet"
         ],
         "xaxis": "x",
         "y": {
          "bdata": "rkfAf0P2CEBY8QIob0r9P7Q+HhuUmfE/NcYyWRUzC0Bt6aj6q7YzQA==",
          "dtype": "f8"
         },
         "yaxis": "y"
        },
        {
         "alignmentgroup": "True",
         "hovertemplate": "variable=RMSE<br>Model=%{x}<br>value=%{y}<extra></extra>",
         "legendgroup": "RMSE",
         "marker": {
          "color": "#EF553B",
          "pattern": {
           "shape": ""
          }
         },
         "name": "RMSE",
         "offsetgroup": "RMSE",
         "orientation": "v",
         "showlegend": true,
         "textposition": "auto",
         "type": "bar",
         "x": [
          "Linear Regression",
          "Decision Tree",
          "Random Forest",
          "Gradient Boosting",
          "ElasticNet"
         ],
         "xaxis": "x",
         "y": {
          "bdata": "FKHFH4n1KkChaPLKC3AQQGORBg1v5wlAMZS/GRcSJEAEkAsNYm04QA==",
          "dtype": "f8"
         },
         "yaxis": "y"
        },
        {
         "alignmentgroup": "True",
         "hovertemplate": "variable=R2<br>Model=%{x}<br>value=%{y}<extra></extra>",
         "legendgroup": "R2",
         "marker": {
          "color": "#00cc96",
          "pattern": {
           "shape": ""
          }
         },
         "name": "R2",
         "offsetgroup": "R2",
         "orientation": "v",
         "showlegend": true,
         "textposition": "auto",
         "type": "bar",
         "x": [
          "Linear Regression",
          "Decision Tree",
          "Random Forest",
          "Gradient Boosting",
          "ElasticNet"
         ],
         "xaxis": "x",
         "y": {
          "bdata": "g9/cj4N77j+Iyqu+5NvvP5NfwDqV6e8/aNZXsK0o7z8t6AmhOQTrPw==",
          "dtype": "f8"
         },
         "yaxis": "y"
        }
       ],
       "layout": {
        "barmode": "group",
        "legend": {
         "title": {
          "text": "variable"
         },
         "tracegroupgap": 0
        },
        "template": {
         "data": {
          "bar": [
           {
            "error_x": {
             "color": "#2a3f5f"
            },
            "error_y": {
             "color": "#2a3f5f"
            },
            "marker": {
             "line": {
              "color": "#E5ECF6",
              "width": 0.5
             },
             "pattern": {
              "fillmode": "overlay",
              "size": 10,
              "solidity": 0.2
             }
            },
            "type": "bar"
           }
          ],
          "barpolar": [
           {
            "marker": {
             "line": {
              "color": "#E5ECF6",
              "width": 0.5
             },
             "pattern": {
              "fillmode": "overlay",
              "size": 10,
              "solidity": 0.2
             }
            },
            "type": "barpolar"
           }
          ],
          "carpet": [
           {
            "aaxis": {
             "endlinecolor": "#2a3f5f",
             "gridcolor": "white",
             "linecolor": "white",
             "minorgridcolor": "white",
             "startlinecolor": "#2a3f5f"
            },
            "baxis": {
             "endlinecolor": "#2a3f5f",
             "gridcolor": "white",
             "linecolor": "white",
             "minorgridcolor": "white",
             "startlinecolor": "#2a3f5f"
            },
            "type": "carpet"
           }
          ],
          "choropleth": [
           {
            "colorbar": {
             "outlinewidth": 0,
             "ticks": ""
            },
            "type": "choropleth"
           }
          ],
          "contour": [
           {
            "colorbar": {
             "outlinewidth": 0,
             "ticks": ""
            },
            "colorscale": [
             [
              0,
              "#0d0887"
             ],
             [
              0.1111111111111111,
              "#46039f"
             ],
             [
              0.2222222222222222,
              "#7201a8"
             ],
             [
              0.3333333333333333,
              "#9c179e"
             ],
             [
              0.4444444444444444,
              "#bd3786"
             ],
             [
              0.5555555555555556,
              "#d8576b"
             ],
             [
              0.6666666666666666,
              "#ed7953"
             ],
             [
              0.7777777777777778,
              "#fb9f3a"
             ],
             [
              0.8888888888888888,
              "#fdca26"
             ],
             [
              1,
              "#f0f921"
             ]
            ],
            "type": "contour"
           }
          ],
          "contourcarpet": [
           {
            "colorbar": {
             "outlinewidth": 0,
             "ticks": ""
            },
            "type": "contourcarpet"
           }
          ],
          "heatmap": [
           {
            "colorbar": {
             "outlinewidth": 0,
             "ticks": ""
            },
            "colorscale": [
             [
              0,
              "#0d0887"
             ],
             [
              0.1111111111111111,
              "#46039f"
             ],
             [
              0.2222222222222222,
              "#7201a8"
             ],
             [
              0.3333333333333333,
              "#9c179e"
             ],
             [
              0.4444444444444444,
              "#bd3786"
             ],
             [
              0.5555555555555556,
              "#d8576b"
             ],
             [
              0.6666666666666666,
              "#ed7953"
             ],
             [
              0.7777777777777778,
              "#fb9f3a"
             ],
             [
              0.8888888888888888,
              "#fdca26"
             ],
             [
              1,
              "#f0f921"
             ]
            ],
            "type": "heatmap"
           }
          ],
          "histogram": [
           {
            "marker": {
             "pattern": {
              "fillmode": "overlay",
              "size": 10,
              "solidity": 0.2
             }
            },
            "type": "histogram"
           }
          ],
          "histogram2d": [
           {
            "colorbar": {
             "outlinewidth": 0,
             "ticks": ""
            },
            "colorscale": [
             [
              0,
              "#0d0887"
             ],
             [
              0.1111111111111111,
              "#46039f"
             ],
             [
              0.2222222222222222,
              "#7201a8"
             ],
             [
              0.3333333333333333,
              "#9c179e"
             ],
             [
              0.4444444444444444,
              "#bd3786"
             ],
             [
              0.5555555555555556,
              "#d8576b"
             ],
             [
              0.6666666666666666,
              "#ed7953"
             ],
             [
              0.7777777777777778,
              "#fb9f3a"
             ],
             [
              0.8888888888888888,
              "#fdca26"
             ],
             [
              1,
              "#f0f921"
             ]
            ],
            "type": "histogram2d"
           }
          ],
          "histogram2dcontour": [
           {
            "colorbar": {
             "outlinewidth": 0,
             "ticks": ""
            },
            "colorscale": [
             [
              0,
              "#0d0887"
             ],
             [
              0.1111111111111111,
              "#46039f"
             ],
             [
              0.2222222222222222,
              "#7201a8"
             ],
             [
              0.3333333333333333,
              "#9c179e"
             ],
             [
              0.4444444444444444,
              "#bd3786"
             ],
             [
              0.5555555555555556,
              "#d8576b"
             ],
             [
              0.6666666666666666,
              "#ed7953"
             ],
             [
              0.7777777777777778,
              "#fb9f3a"
             ],
             [
              0.8888888888888888,
              "#fdca26"
             ],
             [
              1,
              "#f0f921"
             ]
            ],
            "type": "histogram2dcontour"
           }
          ],
          "mesh3d": [
           {
            "colorbar": {
             "outlinewidth": 0,
             "ticks": ""
            },
            "type": "mesh3d"
           }
          ],
          "parcoords": [
           {
            "line": {
             "colorbar": {
              "outlinewidth": 0,
              "ticks": ""
             }
            },
            "type": "parcoords"
           }
          ],
          "pie": [
           {
            "automargin": true,
            "type": "pie"
           }
          ],
          "scatter": [
           {
            "fillpattern": {
             "fillmode": "overlay",
             "size": 10,
             "solidity": 0.2
            },
            "type": "scatter"
           }
          ],
          "scatter3d": [
           {
            "line": {
             "colorbar": {
              "outlinewidth": 0,
              "ticks": ""
             }
            },
            "marker": {
             "colorbar": {
              "outlinewidth": 0,
              "ticks": ""
             }
            },
            "type": "scatter3d"
           }
          ],
          "scattercarpet": [
           {
            "marker": {
             "colorbar": {
              "outlinewidth": 0,
              "ticks": ""
             }
            },
            "type": "scattercarpet"
           }
          ],
          "scattergeo": [
           {
            "marker": {
             "colorbar": {
              "outlinewidth": 0,
              "ticks": ""
             }
            },
            "type": "scattergeo"
           }
          ],
          "scattergl": [
           {
            "marker": {
             "colorbar": {
              "outlinewidth": 0,
              "ticks": ""
             }
            },
            "type": "scattergl"
           }
          ],
          "scattermap": [
           {
            "marker": {
             "colorbar": {
              "outlinewidth": 0,
              "ticks": ""
             }
            },
            "type": "scattermap"
           }
          ],
          "scattermapbox": [
           {
            "marker": {
             "colorbar": {
              "outlinewidth": 0,
              "ticks": ""
             }
            },
            "type": "scattermapbox"
           }
          ],
          "scatterpolar": [
           {
            "marker": {
             "colorbar": {
              "outlinewidth": 0,
              "ticks": ""
             }
            },
            "type": "scatterpolar"
           }
          ],
          "scatterpolargl": [
           {
            "marker": {
             "colorbar": {
              "outlinewidth": 0,
              "ticks": ""
             }
            },
            "type": "scatterpolargl"
           }
          ],
          "scatterternary": [
           {
            "marker": {
             "colorbar": {
              "outlinewidth": 0,
              "ticks": ""
             }
            },
            "type": "scatterternary"
           }
          ],
          "surface": [
           {
            "colorbar": {
             "outlinewidth": 0,
             "ticks": ""
            },
            "colorscale": [
             [
              0,
              "#0d0887"
             ],
             [
              0.1111111111111111,
              "#46039f"
             ],
             [
              0.2222222222222222,
              "#7201a8"
             ],
             [
              0.3333333333333333,
              "#9c179e"
             ],
             [
              0.4444444444444444,
              "#bd3786"
             ],
             [
              0.5555555555555556,
              "#d8576b"
             ],
             [
              0.6666666666666666,
              "#ed7953"
             ],
             [
              0.7777777777777778,
              "#fb9f3a"
             ],
             [
              0.8888888888888888,
              "#fdca26"
             ],
             [
              1,
              "#f0f921"
             ]
            ],
            "type": "surface"
           }
          ],
          "table": [
           {
            "cells": {
             "fill": {
              "color": "#EBF0F8"
             },
             "line": {
              "color": "white"
             }
            },
            "header": {
             "fill": {
              "color": "#C8D4E3"
             },
             "line": {
              "color": "white"
             }
            },
            "type": "table"
           }
          ]
         },
         "layout": {
          "annotationdefaults": {
           "arrowcolor": "#2a3f5f",
           "arrowhead": 0,
           "arrowwidth": 1
          },
          "autotypenumbers": "strict",
          "coloraxis": {
           "colorbar": {
            "outlinewidth": 0,
            "ticks": ""
           }
          },
          "colorscale": {
           "diverging": [
            [
             0,
             "#8e0152"
            ],
            [
             0.1,
             "#c51b7d"
            ],
            [
             0.2,
             "#de77ae"
            ],
            [
             0.3,
             "#f1b6da"
            ],
            [
             0.4,
             "#fde0ef"
            ],
            [
             0.5,
             "#f7f7f7"
            ],
            [
             0.6,
             "#e6f5d0"
            ],
            [
             0.7,
             "#b8e186"
            ],
            [
             0.8,
             "#7fbc41"
            ],
            [
             0.9,
             "#4d9221"
            ],
            [
             1,
             "#276419"
            ]
           ],
           "sequential": [
            [
             0,
             "#0d0887"
            ],
            [
             0.1111111111111111,
             "#46039f"
            ],
            [
             0.2222222222222222,
             "#7201a8"
            ],
            [
             0.3333333333333333,
             "#9c179e"
            ],
            [
             0.4444444444444444,
             "#bd3786"
            ],
            [
             0.5555555555555556,
             "#d8576b"
            ],
            [
             0.6666666666666666,
             "#ed7953"
            ],
            [
             0.7777777777777778,
             "#fb9f3a"
            ],
            [
             0.8888888888888888,
             "#fdca26"
            ],
            [
             1,
             "#f0f921"
            ]
           ],
           "sequentialminus": [
            [
             0,
             "#0d0887"
            ],
            [
             0.1111111111111111,
             "#46039f"
            ],
            [
             0.2222222222222222,
             "#7201a8"
            ],
            [
             0.3333333333333333,
             "#9c179e"
            ],
            [
             0.4444444444444444,
             "#bd3786"
            ],
            [
             0.5555555555555556,
             "#d8576b"
            ],
            [
             0.6666666666666666,
             "#ed7953"
            ],
            [
             0.7777777777777778,
             "#fb9f3a"
            ],
            [
             0.8888888888888888,
             "#fdca26"
            ],
            [
             1,
             "#f0f921"
            ]
           ]
          },
          "colorway": [
           "#636efa",
           "#EF553B",
           "#00cc96",
           "#ab63fa",
           "#FFA15A",
           "#19d3f3",
           "#FF6692",
           "#B6E880",
           "#FF97FF",
           "#FECB52"
          ],
          "font": {
           "color": "#2a3f5f"
          },
          "geo": {
           "bgcolor": "white",
           "lakecolor": "white",
           "landcolor": "#E5ECF6",
           "showlakes": true,
           "showland": true,
           "subunitcolor": "white"
          },
          "hoverlabel": {
           "align": "left"
          },
          "hovermode": "closest",
          "mapbox": {
           "style": "light"
          },
          "paper_bgcolor": "white",
          "plot_bgcolor": "#E5ECF6",
          "polar": {
           "angularaxis": {
            "gridcolor": "white",
            "linecolor": "white",
            "ticks": ""
           },
           "bgcolor": "#E5ECF6",
           "radialaxis": {
            "gridcolor": "white",
            "linecolor": "white",
            "ticks": ""
           }
          },
          "scene": {
           "xaxis": {
            "backgroundcolor": "#E5ECF6",
            "gridcolor": "white",
            "gridwidth": 2,
            "linecolor": "white",
            "showbackground": true,
            "ticks": "",
            "zerolinecolor": "white"
           },
           "yaxis": {
            "backgroundcolor": "#E5ECF6",
            "gridcolor": "white",
            "gridwidth": 2,
            "linecolor": "white",
            "showbackground": true,
            "ticks": "",
            "zerolinecolor": "white"
           },
           "zaxis": {
            "backgroundcolor": "#E5ECF6",
            "gridcolor": "white",
            "gridwidth": 2,
            "linecolor": "white",
            "showbackground": true,
            "ticks": "",
            "zerolinecolor": "white"
           }
          },
          "shapedefaults": {
           "line": {
            "color": "#2a3f5f"
           }
          },
          "ternary": {
           "aaxis": {
            "gridcolor": "white",
            "linecolor": "white",
            "ticks": ""
           },
           "baxis": {
            "gridcolor": "white",
            "linecolor": "white",
            "ticks": ""
           },
           "bgcolor": "#E5ECF6",
           "caxis": {
            "gridcolor": "white",
            "linecolor": "white",
            "ticks": ""
           }
          },
          "title": {
           "x": 0.05
          },
          "xaxis": {
           "automargin": true,
           "gridcolor": "white",
           "linecolor": "white",
           "ticks": "",
           "title": {
            "standoff": 15
           },
           "zerolinecolor": "white",
           "zerolinewidth": 2
          },
          "yaxis": {
           "automargin": true,
           "gridcolor": "white",
           "linecolor": "white",
           "ticks": "",
           "title": {
            "standoff": 15
           },
           "zerolinecolor": "white",
           "zerolinewidth": 2
          }
         }
        },
        "title": {
         "text": "Model Comparison Across Metrics"
        },
        "xaxis": {
         "anchor": "y",
         "domain": [
          0,
          1
         ],
         "title": {
          "text": "Model"
         }
        },
        "yaxis": {
         "anchor": "x",
         "domain": [
          0,
          1
         ],
         "title": {
          "text": "value"
         }
        }
       }
      }
     },
     "metadata": {},
     "output_type": "display_data"
    }
   ],
   "source": [
    "\n",
    "fig = px.bar(results_df.melt(id_vars='Model'), \n",
    "             x='Model', y='value', color='variable', \n",
    "             barmode='group', title='Model Comparison Across Metrics')\n",
    "fig.show()"
   ]
  },
  {
   "cell_type": "code",
   "execution_count": 43,
   "id": "743b9ac0",
   "metadata": {},
   "outputs": [
    {
     "name": "stdout",
     "output_type": "stream",
     "text": [
      "               Model        MAE       RMSE        R2\n",
      "0  Linear Regression   3.120246  13.479562  0.952577\n",
      "1      Decision Tree   1.830672   4.109420  0.995592\n",
      "2      Random Forest   1.099995   3.238005  0.997264\n",
      "3  Gradient Boosting   3.399943  10.035332  0.973716\n",
      "4         ElasticNet  19.713562  24.427277  0.844266\n",
      "✅ Final pipeline saved as Linear Regression.pkl\n"
     ]
    }
   ],
   "source": [
    "# Convert to DataFrame\n",
    "results_df = pd.DataFrame(results, columns=[\"Model\", \"MAE\", \"RMSE\", \"R2\"])\n",
    "print(results_df)\n",
    "\n",
    "# Columns\n",
    "num_features = [\"views\", \"likes\", \"comments\", \"watch_time_minutes\",\n",
    "                \"video_length_minutes\", \"subscribers\",\n",
    "                \"engagement_rate\", \"subscriber_value\"]\n",
    "\n",
    "cat_features = [\"category\", \"device\", \"country\"]\n",
    "\n",
    "# Preprocessor\n",
    "preprocessor = ColumnTransformer([\n",
    "    (\"num\", StandardScaler(), num_features),\n",
    "    (\"cat\", OneHotEncoder(handle_unknown=\"ignore\"), cat_features)\n",
    "])\n",
    "# Pipeline\n",
    "pipeline = Pipeline([\n",
    "    (\"preprocessor\", preprocessor),\n",
    "    (\"model\", LinearRegression())\n",
    "])\n",
    "\n",
    "pipeline.fit(X_train, y_train)\n",
    "\n",
    "joblib.dump(pipeline, \"Linear Regression.pkl\")\n",
    "print(\"✅ Final pipeline saved as Linear Regression.pkl\")\n",
    "\n",
    "\n"
   ]
  }
 ],
 "metadata": {
  "kernelspec": {
   "display_name": ".venv",
   "language": "python",
   "name": "python3"
  },
  "language_info": {
   "codemirror_mode": {
    "name": "ipython",
    "version": 3
   },
   "file_extension": ".py",
   "mimetype": "text/x-python",
   "name": "python",
   "nbconvert_exporter": "python",
   "pygments_lexer": "ipython3",
   "version": "3.13.4"
  }
 },
 "nbformat": 4,
 "nbformat_minor": 5
}
